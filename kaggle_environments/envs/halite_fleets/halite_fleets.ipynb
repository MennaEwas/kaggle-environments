{
 "cells": [
  {
   "cell_type": "markdown",
   "metadata": {},
   "source": [
    "# Halite - Kaggle Environment"
   ]
  },
  {
   "cell_type": "code",
   "execution_count": 18,
   "metadata": {},
   "outputs": [
    {
     "output_type": "stream",
     "name": "stdout",
     "text": [
      "Processing /usr/local/google/home/bovard/git/kaggle-environments\n",
      "Requirement already satisfied: jsonschema>=3.0.1 in /usr/local/google/home/bovard/.local/lib/python3.9/site-packages (from kaggle-environments==1.8.12) (3.2.0)\n",
      "Requirement already satisfied: six>=1.11.0 in /usr/lib/python3/dist-packages (from jsonschema>=3.0.1->kaggle-environments==1.8.12) (1.16.0)\n",
      "Requirement already satisfied: attrs>=17.4.0 in /usr/local/google/home/bovard/.local/lib/python3.9/site-packages (from jsonschema>=3.0.1->kaggle-environments==1.8.12) (20.3.0)\n",
      "Requirement already satisfied: pyrsistent>=0.14.0 in /usr/local/google/home/bovard/.local/lib/python3.9/site-packages (from jsonschema>=3.0.1->kaggle-environments==1.8.12) (0.17.3)\n",
      "Requirement already satisfied: setuptools in /usr/lib/python3/dist-packages (from jsonschema>=3.0.1->kaggle-environments==1.8.12) (58.2.0)\n",
      "Building wheels for collected packages: kaggle-environments\n",
      "  Building wheel for kaggle-environments (setup.py) ... \u001b[?25ldone\n",
      "\u001b[?25h  Created wheel for kaggle-environments: filename=kaggle_environments-1.8.12-py3-none-any.whl size=1198087 sha256=5ed92d9ccf05e32002dd53026676733e0ac0a849a6dca13695c1b4160e257e0a\n",
      "  Stored in directory: /usr/local/google/home/bovard/.cache/pip/wheels/aa/26/bb/1210456361b8899a6a8812420e8ecabf56f10e0b10a8466e19\n",
      "Successfully built kaggle-environments\n",
      "Installing collected packages: kaggle-environments\n",
      "  Attempting uninstall: kaggle-environments\n",
      "    Found existing installation: kaggle-environments 1.8.12\n",
      "    Uninstalling kaggle-environments-1.8.12:\n",
      "      Successfully uninstalled kaggle-environments-1.8.12\n",
      "Successfully installed kaggle-environments-1.8.12\n"
     ]
    }
   ],
   "source": [
    "!pip install ../../.."
   ]
  },
  {
   "cell_type": "code",
   "execution_count": 19,
   "metadata": {},
   "outputs": [
    {
     "output_type": "stream",
     "name": "stdout",
     "text": [
      "halite_fleets 1.0.0\nDefault Agents:  random\n"
     ]
    }
   ],
   "source": [
    "from kaggle_environments import make\n",
    "env = make(\"halite_fleets\")\n",
    "print(env.name, env.version)\n",
    "print(\"Default Agents: \", *env.agents)"
   ]
  },
  {
   "cell_type": "markdown",
   "metadata": {},
   "source": [
    "## TLDR;"
   ]
  },
  {
   "cell_type": "code",
   "execution_count": 20,
   "metadata": {
    "scrolled": false
   },
   "outputs": [
    {
     "output_type": "execute_result",
     "data": {
      "text/plain": [
       "'+----+----+----+----+----+----+----+----+----+----+----+----+----+----+----+----+----+----+----+----+----+\\n|    |    |    |    |    |    |    |    |    |    |    |    |    |    |    |    |    |    |    |    |    |\\n|   0|   0|   0|   0|   0| 500|   0|   0|   0|   0|   0|   0|   0|   0|   0| 500|   0|   0|   0|   0|   0|\\n+----+----+----+----+----+----+----+----+----+----+----+----+----+----+----+----+----+----+----+----+----+\\n|    |    |    |    |    |    |    |    |    |    |    |    |    |    |    |    |    |    |    |    |    |\\n| 500|   0| 500|   0|   0|   0|   0| 500|   0|   0| 500|   0|   0| 500|   0|   0|   0|   0| 500|   0| 500|\\n+----+----+----+----+----+----+----+----+----+----+----+----+----+----+----+----+----+----+----+----+----+\\n|    |    |    |    |    |    |    |    |    |    |    |    |    |    |    |    |    |    |    |    |    |\\n|   0| 500|   0| 500|   0| 500|   0|   0| 500| 500|   0| 500| 500|   0|   0| 500|   0| 500|   0| 500|   0|\\n+----+----+----+----+----+----+----+----+----+----+----+----+----+----+----+----+----+----+----+----+----+\\n|    |    |    |    |    |    |    |    |    |    |    |    |    |    |    |    |    |    |    |    |    |\\n|   0|   0|   0|   0| 500|   0| 500|   0| 500|   0|   0|   0| 500|   0| 500|   0| 500|   0|   0|   0|   0|\\n+----+----+----+----+----+----+----+----+----+----+----+----+----+----+----+----+----+----+----+----+----+\\n|    |    |    |    |    |    |    |    |    |    |    |    |    |    |    |    |    |    |    |    |    |\\n| 500|   0|   0|   0|   0|   0| 500|   0|   0|   0|   0|   0|   0|   0| 500|   0|   0|   0|   0|   0| 500|\\n+----+----+----+----+----+----+----+----+----+----+----+----+----+----+----+----+----+----+----+----+----+\\n|    |    |    |    |    |    |    |    |    |    |    |    |    |    |    |    |    |    |    |    |    |\\n| 500|   0|   0| 500|   0| 500| 500| 500| 500|   0| 500|   0| 500| 500| 500| 500|   0| 500|   0|   0| 500|\\n+----+----+----+----+----+----+----+----+----+----+----+----+----+----+----+----+----+----+----+----+----+\\n|    |    |    |    |    |    |    |    |    |    |    |    |    |    |    |    |    |    |    |    |    |\\n| 500| 500|   0|   0|   0|   0|   0| 500|   0| 500| 500| 500|   0| 500|   0|   0|   0|   0|   0| 500| 500|\\n+----+----+----+----+----+----+----+----+----+----+----+----+----+----+----+----+----+----+----+----+----+\\n|    |    |    |    |    |    |    |    |    |    |    |    |    |    |    |    |    |    |    |    |    |\\n| 500| 500|   0|   0| 500|   0| 500|   0| 500| 500| 500| 500| 500|   0| 500|   0| 500|   0|   0| 500| 500|\\n+----+----+----+----+----+----+----+----+----+----+----+----+----+----+----+----+----+----+----+----+----+\\n|    |    |    |    |    |    |    |    |    |    |    |    |    |    |    |    |    |    |    |    |    |\\n| 500|   0|   0| 500| 500| 500| 500|   0| 500|   0|   0|   0| 500|   0| 500| 500| 500| 500|   0|   0| 500|\\n+----+----+----+----+----+----+----+----+----+----+----+----+----+----+----+----+----+----+----+----+----+\\n|    |    |    |    |    |    |    |    |    |    |    |    |    |    |    |    |    |    |    |    |    |\\n| 500|   0|   0|   0|   0| 500|   0|   0| 500| 500| 500| 500| 500|   0|   0| 500|   0|   0|   0|   0| 500|\\n+----+----+----+----+----+----+----+----+----+----+----+----+----+----+----+----+----+----+----+----+----+\\n|    |    |    |    |    |    |    |    |    |    |    |    |    |    |    |    |    |    |    |    |    |\\n|   0|   0|   0|   0|   0|SY0 | 500| 500| 500| 500| 500| 500| 500| 500| 500|SY1 |   0|   0|   0|   0|   0|\\n+----+----+----+----+----+----+----+----+----+----+----+----+----+----+----+----+----+----+----+----+----+\\n|    |    |    |    |    |    |    |    |    |    |    |    |    |    |    |    |    |    |    |    |    |\\n| 500|   0|   0|   0|   0| 500|   0|   0| 500| 500| 500| 500| 500|   0|   0| 500|   0|   0|   0|   0| 500|\\n+----+----+----+----+----+----+----+----+----+----+----+----+----+----+----+----+----+----+----+----+----+\\n|    |    |    |    |    |    |    |    |    |    |    |    |    |    |    |    |    |    |    |    |    |\\n| 500|   0|   0| 500| 500| 500| 500|   0| 500|   0|   0|   0| 500|   0| 500| 500| 500| 500|   0|   0| 500|\\n+----+----+----+----+----+----+----+----+----+----+----+----+----+----+----+----+----+----+----+----+----+\\n|    |    |    |    |    |    |    |    |    |    |    |    |    |    |    |    |    |    |    |    |    |\\n| 500| 500|   0|   0| 500|   0| 500|   0| 500| 500| 500| 500| 500|   0| 500|   0| 500|   0|   0| 500| 500|\\n+----+----+----+----+----+----+----+----+----+----+----+----+----+----+----+----+----+----+----+----+----+\\n|    |    |    |    |    |    |    |    |    |    |    |    |    |    |    |    |    |    |    |    |    |\\n| 500| 500|   0|   0|   0|   0|   0| 500|   0| 500| 500| 500|   0| 500|   0|   0|   0|   0|   0| 500| 500|\\n+----+----+----+----+----+----+----+----+----+----+----+----+----+----+----+----+----+----+----+----+----+\\n|    |    |    |    |    |    |    |    |    |    |    |    |    |    |    |    |    |    |    |    |    |\\n| 500|   0|   0| 500|   0| 500| 500| 500| 500|   0| 500|   0| 500| 500| 500| 500|   0| 500|   0|   0| 500|\\n+----+----+----+----+----+----+----+----+----+----+----+----+----+----+----+----+----+----+----+----+----+\\n|    |    |    |    |    |    |    |    |    |    |    |    |    |    |    |    |    |    |    |    |    |\\n| 500|   0|   0|   0|   0|   0| 500|   0|   0|   0|   0|   0|   0|   0| 500|   0|   0|   0|   0|   0| 500|\\n+----+----+----+----+----+----+----+----+----+----+----+----+----+----+----+----+----+----+----+----+----+\\n|    |    |    |    |    |    |    |    |    |    |    |    |    |    |    |    |    |    |    |    |    |\\n|   0|   0|   0|   0| 500|   0| 500|   0| 500|   0|   0|   0| 500|   0| 500|   0| 500|   0|   0|   0|   0|\\n+----+----+----+----+----+----+----+----+----+----+----+----+----+----+----+----+----+----+----+----+----+\\n|    |    |    |    |    |    |    |    |    |    |    |    |    |    |    |    |    |    |    |    |    |\\n|   0| 500|   0| 500|   0| 500|   0|   0| 500| 500|   0| 500| 500|   0|   0| 500|   0| 500|   0| 500|   0|\\n+----+----+----+----+----+----+----+----+----+----+----+----+----+----+----+----+----+----+----+----+----+\\n|    |    |    |    |    |    |    |    |    |    |    |    |    |    |    |    |    |    |    |    |    |\\n| 500|   0| 500|   0|   0|   0|   0| 500|   0|   0| 500|   0|   0| 500|   0|   0|   0|   0| 500|   0| 500|\\n+----+----+----+----+----+----+----+----+----+----+----+----+----+----+----+----+----+----+----+----+----+\\n|    |    |    |    |    |    |    |    |    |    |    |    |    |    |    |    |    |    |    |    |    |\\n|   0|   0|   0|   0|   0| 500|   0|   0|   0|   0|   0|   0|   0|   0|   0| 500|   0|   0|   0|   0|   0|\\n+----+----+----+----+----+----+----+----+----+----+----+----+----+----+----+----+----+----+----+----+----+\\n'"
      ]
     },
     "metadata": {},
     "execution_count": 20
    }
   ],
   "source": [
    "from random import choice\n",
    "def agent(obs):\n",
    "    action = {}\n",
    "    shipyard_id = list(obs.players[obs.player][1].keys())[0]\n",
    "    ship_action = \"SPAWN_1\"\n",
    "    if ship_action is not None:\n",
    "        action[ship_id] = ship_action\n",
    "    return action\n",
    "\n",
    "env = make(\"halite_fleets\", debug=True)\n",
    "env.run([\"random\", \"random\"])\n",
    "env.render(mode=\"ansi\", width=800, height=800)"
   ]
  },
  {
   "cell_type": "markdown",
   "metadata": {},
   "source": [
    "## Specification"
   ]
  },
  {
   "cell_type": "code",
   "execution_count": 16,
   "metadata": {
    "scrolled": false
   },
   "outputs": [
    {
     "output_type": "stream",
     "name": "stdout",
     "text": [
      "Configuration: {\n    \"actTimeout\": {\n        \"default\": 3,\n        \"description\": \"Maximum runtime (seconds) to obtain an action from an agent.\",\n        \"minimum\": 0,\n        \"type\": \"number\"\n    },\n    \"agentTimeout\": {\n        \"default\": 60,\n        \"description\": \"Obsolete field kept for backwards compatibility, please use observation.remainingOverageTime.\",\n        \"minimum\": 0,\n        \"type\": \"number\"\n    },\n    \"collectRate\": {\n        \"default\": 0.25,\n        \"description\": \"The rate of halite collected by a ship from a cell by not moving.\",\n        \"minimum\": 0,\n        \"type\": \"number\"\n    },\n    \"convertCost\": {\n        \"default\": 200,\n        \"description\": \"The number of ships required to create a shipyard.\",\n        \"minimum\": 0,\n        \"type\": \"integer\"\n    },\n    \"episodeSteps\": {\n        \"default\": 400,\n        \"description\": \"Maximum number of steps in the episode.\",\n        \"minimum\": 1,\n        \"type\": \"integer\"\n    },\n    \"maxCellHalite\": {\n        \"default\": 500,\n        \"description\": \"The maximum halite that can be in any cell.\",\n        \"minimum\": 0,\n        \"type\": \"integer\"\n    },\n    \"moveCost\": {\n        \"default\": 0,\n        \"description\": \"The percent deducted from ship's current halite per move.\",\n        \"minimum\": 0,\n        \"type\": \"number\"\n    },\n    \"randomSeed\": {\n        \"default\": null,\n        \"description\": \"The seed used to initialize the random number generator.\",\n        \"type\": \"integer\"\n    },\n    \"regenRate\": {\n        \"default\": 0.02,\n        \"description\": \"The rate halite regenerates on the board.\",\n        \"minimum\": 0,\n        \"type\": \"number\"\n    },\n    \"runTimeout\": {\n        \"default\": 9600,\n        \"description\": \"Maximum runtime (seconds) of an episode (not necessarily DONE).\",\n        \"minimum\": 0,\n        \"type\": \"number\"\n    },\n    \"size\": {\n        \"default\": 21,\n        \"description\": \"The number of cells vertically and horizontally on the board.\",\n        \"minimum\": 2,\n        \"type\": \"integer\"\n    },\n    \"spawnCost\": {\n        \"default\": 500,\n        \"description\": \"The amount of halite to spawn a new ship.\",\n        \"minimum\": 0,\n        \"type\": \"integer\"\n    },\n    \"startingHalite\": {\n        \"default\": 24000,\n        \"description\": \"The starting amount of halite available on the board.\",\n        \"type\": \"integer\"\n    }\n}\nObservation: {\n    \"halite\": {\n        \"description\": \"Serialized list of available halite per cell on the board.\",\n        \"shared\": true,\n        \"type\": \"array\"\n    },\n    \"player\": {\n        \"defaults\": [\n            0,\n            1,\n            2,\n            3\n        ],\n        \"description\": \"The current agent's player index.\",\n        \"type\": \"integer\"\n    },\n    \"players\": {\n        \"description\": \"List of players and their assets.\",\n        \"shared\": true,\n        \"type\": \"array\"\n    },\n    \"remainingOverageTime\": {\n        \"default\": 60,\n        \"description\": \"Total remaining banked time (seconds) that can be used in excess of per-step actTimeouts -- agent is disqualified with TIMEOUT status when this drops below 0.\",\n        \"minimum\": 0,\n        \"shared\": false,\n        \"type\": \"number\"\n    },\n    \"step\": {\n        \"default\": 0,\n        \"description\": \"Current step within the episode.\",\n        \"minimum\": 0,\n        \"shared\": true,\n        \"type\": \"integer\"\n    }\n}\nAction: {\n    \"additionalProperties\": {\n        \"description\": \"Key: uid of the asset. Value: action. SPAWN for shipyards, remaining for ships.\"\n    },\n    \"default\": 0,\n    \"description\": \"Actions taken per asset (fleet or shipyard).\",\n    \"type\": \"object\"\n}\n"
     ]
    }
   ],
   "source": [
    "import json\n",
    "print(\"Configuration:\", json.dumps(env.specification.configuration, indent=4, sort_keys=True))\n",
    "print(\"Observation:\", json.dumps(env.specification.observation, indent=4, sort_keys=True))\n",
    "print(\"Action:\", json.dumps(env.specification.action, indent=4, sort_keys=True))"
   ]
  },
  {
   "cell_type": "code",
   "execution_count": null,
   "metadata": {},
   "outputs": [],
   "source": []
  }
 ],
 "metadata": {
  "kernelspec": {
   "display_name": "Python 3",
   "language": "python",
   "name": "python3"
  },
  "language_info": {
   "codemirror_mode": {
    "name": "ipython",
    "version": 3
   },
   "file_extension": ".py",
   "mimetype": "text/x-python",
   "name": "python",
   "nbconvert_exporter": "python",
   "pygments_lexer": "ipython3",
   "version": "3.9.7-final"
  }
 },
 "nbformat": 4,
 "nbformat_minor": 2
}