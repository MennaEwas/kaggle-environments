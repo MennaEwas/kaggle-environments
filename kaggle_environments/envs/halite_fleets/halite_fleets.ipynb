{
 "cells": [
  {
   "cell_type": "markdown",
   "metadata": {},
   "source": [
    "# Halite - Kaggle Environment"
   ]
  },
  {
   "cell_type": "code",
   "execution_count": 4,
   "metadata": {},
   "outputs": [
    {
     "output_type": "stream",
     "name": "stdout",
     "text": [
      "Processing /usr/local/google/home/bovard/git/kaggle-environments\n",
      "Requirement already satisfied: jsonschema>=3.0.1 in /usr/local/google/home/bovard/.local/lib/python3.9/site-packages (from kaggle-environments==1.8.12) (3.2.0)\n",
      "Requirement already satisfied: six>=1.11.0 in /usr/lib/python3/dist-packages (from jsonschema>=3.0.1->kaggle-environments==1.8.12) (1.16.0)\n",
      "Requirement already satisfied: pyrsistent>=0.14.0 in /usr/local/google/home/bovard/.local/lib/python3.9/site-packages (from jsonschema>=3.0.1->kaggle-environments==1.8.12) (0.17.3)\n",
      "Requirement already satisfied: attrs>=17.4.0 in /usr/local/google/home/bovard/.local/lib/python3.9/site-packages (from jsonschema>=3.0.1->kaggle-environments==1.8.12) (20.3.0)\n",
      "Requirement already satisfied: setuptools in /usr/lib/python3/dist-packages (from jsonschema>=3.0.1->kaggle-environments==1.8.12) (58.2.0)\n",
      "Building wheels for collected packages: kaggle-environments\n",
      "  Building wheel for kaggle-environments (setup.py) ... \u001b[?25ldone\n",
      "\u001b[?25h  Created wheel for kaggle-environments: filename=kaggle_environments-1.8.12-py3-none-any.whl size=1197228 sha256=9df0eab4db60d7686d54b83849e6643d0371aaac18d8696cc77e9d4f5f255fd8\n",
      "  Stored in directory: /usr/local/google/home/bovard/.cache/pip/wheels/aa/26/bb/1210456361b8899a6a8812420e8ecabf56f10e0b10a8466e19\n",
      "Successfully built kaggle-environments\n",
      "Installing collected packages: kaggle-environments\n",
      "  Attempting uninstall: kaggle-environments\n",
      "    Found existing installation: kaggle-environments 1.8.12\n",
      "    Uninstalling kaggle-environments-1.8.12:\n",
      "      Successfully uninstalled kaggle-environments-1.8.12\n",
      "Successfully installed kaggle-environments-1.8.12\n"
     ]
    }
   ],
   "source": [
    "!pip install ../../.."
   ]
  },
  {
   "cell_type": "code",
   "execution_count": 5,
   "metadata": {},
   "outputs": [
    {
     "output_type": "stream",
     "name": "stdout",
     "text": [
      "Loading environment football failed: No module named 'gfootball'\nhalite_fleets 1.0.0\nDefault Agents:  random\n"
     ]
    }
   ],
   "source": [
    "from kaggle_environments import make\n",
    "env = make(\"halite_fleets\")\n",
    "print(env.name, env.version)\n",
    "print(\"Default Agents: \", *env.agents)"
   ]
  },
  {
   "cell_type": "markdown",
   "metadata": {},
   "source": [
    "## TLDR;"
   ]
  },
  {
   "cell_type": "code",
   "execution_count": 6,
   "metadata": {
    "scrolled": false
   },
   "outputs": [
    {
     "output_type": "stream",
     "name": "stdout",
     "text": [
      "Traceback (most recent call last):\n  File \"/usr/local/google/home/bovard/.local/lib/python3.9/site-packages/kaggle_environments/agent.py\", line 157, in act\n    action = self.agent(*args)\n  File \"<ipython-input-6-4dbf0bfe7bea>\", line 5, in agent\n    ship_action = choice()\nTypeError: choice() missing 1 required positional argument: 'seq'\nTraceback (most recent call last):\n  File \"/usr/local/google/home/bovard/.local/lib/python3.9/site-packages/kaggle_environments/agent.py\", line 157, in act\n    action = self.agent(*args)\n  File \"/usr/local/google/home/bovard/.local/lib/python3.9/site-packages/kaggle_environments/envs/halite_fleets/helpers.py\", line 858, in agent_wrapper\n    return board.current_player.next_actions\n  File \"/usr/local/google/home/bovard/.local/lib/python3.9/site-packages/kaggle_environments/envs/halite_fleets/helpers.py\", line 468, in next_actions\n    shipyard_actions = {\n  File \"/usr/local/google/home/bovard/.local/lib/python3.9/site-packages/kaggle_environments/envs/halite_fleets/helpers.py\", line 469, in <dictcomp>\n    shipyard.id: shipyard.next_action.name\nAttributeError: 'ShipyardAction' object has no attribute 'name'\nError: ['Traceback (most recent call last):\\n', '  File \"/usr/local/google/home/bovard/.local/lib/python3.9/site-packages/kaggle_environments/agent.py\", line 157, in act\\n    action = self.agent(*args)\\n', '  File \"<ipython-input-6-4dbf0bfe7bea>\", line 5, in agent\\n    ship_action = choice()\\n', \"TypeError: choice() missing 1 required positional argument: 'seq'\\n\"]\nError: ['Traceback (most recent call last):\\n', '  File \"/usr/local/google/home/bovard/.local/lib/python3.9/site-packages/kaggle_environments/agent.py\", line 157, in act\\n    action = self.agent(*args)\\n', '  File \"/usr/local/google/home/bovard/.local/lib/python3.9/site-packages/kaggle_environments/envs/halite_fleets/helpers.py\", line 858, in agent_wrapper\\n    return board.current_player.next_actions\\n', '  File \"/usr/local/google/home/bovard/.local/lib/python3.9/site-packages/kaggle_environments/envs/halite_fleets/helpers.py\", line 468, in next_actions\\n    shipyard_actions = {\\n', '  File \"/usr/local/google/home/bovard/.local/lib/python3.9/site-packages/kaggle_environments/envs/halite_fleets/helpers.py\", line 469, in <dictcomp>\\n    shipyard.id: shipyard.next_action.name\\n', \"AttributeError: 'ShipyardAction' object has no attribute 'name'\\n\"]\nTraceback (most recent call last):\n  File \"/usr/local/google/home/bovard/.local/lib/python3.9/site-packages/kaggle_environments/core.py\", line 537, in __run_interpreter\n    new_state = structify(self.interpreter(\n  File \"/usr/local/google/home/bovard/.local/lib/python3.9/site-packages/kaggle_environments/envs/halite_fleets/halite_fleets.py\", line 165, in interpreter\n    board = board.next()\n  File \"/usr/local/google/home/bovard/.local/lib/python3.9/site-packages/kaggle_environments/envs/halite_fleets/helpers.py\", line 702, in next\n    if (shipyard.next_action.type == ShipyardActionType.SPAWN\nAttributeError: 'NoneType' object has no attribute 'type'\n"
     ]
    },
    {
     "output_type": "error",
     "ename": "AttributeError",
     "evalue": "'NoneType' object has no attribute 'type'",
     "traceback": [
      "\u001b[0;31m---------------------------------------------------------------------------\u001b[0m",
      "\u001b[0;31mAttributeError\u001b[0m                            Traceback (most recent call last)",
      "\u001b[0;32m<ipython-input-6-4dbf0bfe7bea>\u001b[0m in \u001b[0;36m<module>\u001b[0;34m\u001b[0m\n\u001b[1;32m      9\u001b[0m \u001b[0;34m\u001b[0m\u001b[0m\n\u001b[1;32m     10\u001b[0m \u001b[0menv\u001b[0m \u001b[0;34m=\u001b[0m \u001b[0mmake\u001b[0m\u001b[0;34m(\u001b[0m\u001b[0;34m\"halite_fleets\"\u001b[0m\u001b[0;34m,\u001b[0m \u001b[0mdebug\u001b[0m\u001b[0;34m=\u001b[0m\u001b[0;32mTrue\u001b[0m\u001b[0;34m)\u001b[0m\u001b[0;34m\u001b[0m\u001b[0;34m\u001b[0m\u001b[0m\n\u001b[0;32m---> 11\u001b[0;31m \u001b[0menv\u001b[0m\u001b[0;34m.\u001b[0m\u001b[0mrun\u001b[0m\u001b[0;34m(\u001b[0m\u001b[0;34m[\u001b[0m\u001b[0magent\u001b[0m\u001b[0;34m,\u001b[0m \u001b[0;34m\"random\"\u001b[0m\u001b[0;34m]\u001b[0m\u001b[0;34m)\u001b[0m\u001b[0;34m\u001b[0m\u001b[0;34m\u001b[0m\u001b[0m\n\u001b[0m\u001b[1;32m     12\u001b[0m \u001b[0menv\u001b[0m\u001b[0;34m.\u001b[0m\u001b[0mrender\u001b[0m\u001b[0;34m(\u001b[0m\u001b[0mmode\u001b[0m\u001b[0;34m=\u001b[0m\u001b[0;34m\"ipython\"\u001b[0m\u001b[0;34m,\u001b[0m \u001b[0mwidth\u001b[0m\u001b[0;34m=\u001b[0m\u001b[0;36m800\u001b[0m\u001b[0;34m,\u001b[0m \u001b[0mheight\u001b[0m\u001b[0;34m=\u001b[0m\u001b[0;36m800\u001b[0m\u001b[0;34m)\u001b[0m\u001b[0;34m\u001b[0m\u001b[0;34m\u001b[0m\u001b[0m\n",
      "\u001b[0;32m~/.local/lib/python3.9/site-packages/kaggle_environments/core.py\u001b[0m in \u001b[0;36mrun\u001b[0;34m(self, agents)\u001b[0m\n\u001b[1;32m    233\u001b[0m         \u001b[0;32mwhile\u001b[0m \u001b[0;32mnot\u001b[0m \u001b[0mself\u001b[0m\u001b[0;34m.\u001b[0m\u001b[0mdone\u001b[0m \u001b[0;32mand\u001b[0m \u001b[0mperf_counter\u001b[0m\u001b[0;34m(\u001b[0m\u001b[0;34m)\u001b[0m \u001b[0;34m-\u001b[0m \u001b[0mstart\u001b[0m \u001b[0;34m<\u001b[0m \u001b[0mself\u001b[0m\u001b[0;34m.\u001b[0m\u001b[0mconfiguration\u001b[0m\u001b[0;34m.\u001b[0m\u001b[0mrunTimeout\u001b[0m\u001b[0;34m:\u001b[0m\u001b[0;34m\u001b[0m\u001b[0;34m\u001b[0m\u001b[0m\n\u001b[1;32m    234\u001b[0m             \u001b[0mactions\u001b[0m\u001b[0;34m,\u001b[0m \u001b[0mlogs\u001b[0m \u001b[0;34m=\u001b[0m \u001b[0mrunner\u001b[0m\u001b[0;34m.\u001b[0m\u001b[0mact\u001b[0m\u001b[0;34m(\u001b[0m\u001b[0;34m)\u001b[0m\u001b[0;34m\u001b[0m\u001b[0;34m\u001b[0m\u001b[0m\n\u001b[0;32m--> 235\u001b[0;31m             \u001b[0mself\u001b[0m\u001b[0;34m.\u001b[0m\u001b[0mstep\u001b[0m\u001b[0;34m(\u001b[0m\u001b[0mactions\u001b[0m\u001b[0;34m,\u001b[0m \u001b[0mlogs\u001b[0m\u001b[0;34m)\u001b[0m\u001b[0;34m\u001b[0m\u001b[0;34m\u001b[0m\u001b[0m\n\u001b[0m\u001b[1;32m    236\u001b[0m         \u001b[0;32mreturn\u001b[0m \u001b[0mself\u001b[0m\u001b[0;34m.\u001b[0m\u001b[0msteps\u001b[0m\u001b[0;34m\u001b[0m\u001b[0;34m\u001b[0m\u001b[0m\n\u001b[1;32m    237\u001b[0m \u001b[0;34m\u001b[0m\u001b[0m\n",
      "\u001b[0;32m~/.local/lib/python3.9/site-packages/kaggle_environments/core.py\u001b[0m in \u001b[0;36mstep\u001b[0;34m(self, actions, logs)\u001b[0m\n\u001b[1;32m    197\u001b[0m                     \u001b[0maction_state\u001b[0m\u001b[0;34m[\u001b[0m\u001b[0mindex\u001b[0m\u001b[0;34m]\u001b[0m\u001b[0;34m[\u001b[0m\u001b[0;34m\"action\"\u001b[0m\u001b[0;34m]\u001b[0m \u001b[0;34m=\u001b[0m \u001b[0mdata\u001b[0m\u001b[0;34m\u001b[0m\u001b[0;34m\u001b[0m\u001b[0m\n\u001b[1;32m    198\u001b[0m \u001b[0;34m\u001b[0m\u001b[0m\n\u001b[0;32m--> 199\u001b[0;31m         \u001b[0mself\u001b[0m\u001b[0;34m.\u001b[0m\u001b[0mstate\u001b[0m \u001b[0;34m=\u001b[0m \u001b[0mself\u001b[0m\u001b[0;34m.\u001b[0m\u001b[0m__run_interpreter\u001b[0m\u001b[0;34m(\u001b[0m\u001b[0maction_state\u001b[0m\u001b[0;34m,\u001b[0m \u001b[0mlogs\u001b[0m\u001b[0;34m)\u001b[0m\u001b[0;34m\u001b[0m\u001b[0;34m\u001b[0m\u001b[0m\n\u001b[0m\u001b[1;32m    200\u001b[0m \u001b[0;34m\u001b[0m\u001b[0m\n\u001b[1;32m    201\u001b[0m         \u001b[0;31m# Max Steps reached. Mark ACTIVE/INACTIVE agents as DONE.\u001b[0m\u001b[0;34m\u001b[0m\u001b[0;34m\u001b[0m\u001b[0m\n",
      "\u001b[0;32m~/.local/lib/python3.9/site-packages/kaggle_environments/core.py\u001b[0m in \u001b[0;36m__run_interpreter\u001b[0;34m(self, state, logs)\u001b[0m\n\u001b[1;32m    557\u001b[0m                     \u001b[0mtraceback\u001b[0m\u001b[0;34m.\u001b[0m\u001b[0mprint_exc\u001b[0m\u001b[0;34m(\u001b[0m\u001b[0mfile\u001b[0m\u001b[0;34m=\u001b[0m\u001b[0merr_buffer\u001b[0m\u001b[0;34m)\u001b[0m\u001b[0;34m\u001b[0m\u001b[0;34m\u001b[0m\u001b[0m\n\u001b[1;32m    558\u001b[0m                     \u001b[0;31m# Reraise e to ensure that the program exits\u001b[0m\u001b[0;34m\u001b[0m\u001b[0;34m\u001b[0m\u001b[0m\n\u001b[0;32m--> 559\u001b[0;31m                     \u001b[0;32mraise\u001b[0m \u001b[0me\u001b[0m\u001b[0;34m\u001b[0m\u001b[0;34m\u001b[0m\u001b[0m\n\u001b[0m\u001b[1;32m    560\u001b[0m                 \u001b[0;32mfinally\u001b[0m\u001b[0;34m:\u001b[0m\u001b[0;34m\u001b[0m\u001b[0;34m\u001b[0m\u001b[0m\n\u001b[1;32m    561\u001b[0m                     \u001b[0;31m# Allow up to 1k log characters per step which is ~1MB per 600 step episode\u001b[0m\u001b[0;34m\u001b[0m\u001b[0;34m\u001b[0m\u001b[0m\n",
      "\u001b[0;32m~/.local/lib/python3.9/site-packages/kaggle_environments/core.py\u001b[0m in \u001b[0;36m__run_interpreter\u001b[0;34m(self, state, logs)\u001b[0m\n\u001b[1;32m    535\u001b[0m                 \u001b[0;32mtry\u001b[0m\u001b[0;34m:\u001b[0m\u001b[0;34m\u001b[0m\u001b[0;34m\u001b[0m\u001b[0m\n\u001b[1;32m    536\u001b[0m                     \u001b[0margs\u001b[0m \u001b[0;34m=\u001b[0m \u001b[0;34m[\u001b[0m\u001b[0mstructify\u001b[0m\u001b[0;34m(\u001b[0m\u001b[0mstate\u001b[0m\u001b[0;34m)\u001b[0m\u001b[0;34m,\u001b[0m \u001b[0mself\u001b[0m\u001b[0;34m]\u001b[0m\u001b[0;34m\u001b[0m\u001b[0;34m\u001b[0m\u001b[0m\n\u001b[0;32m--> 537\u001b[0;31m                     new_state = structify(self.interpreter(\n\u001b[0m\u001b[1;32m    538\u001b[0m                         *args[:self.interpreter.__code__.co_argcount]))\n\u001b[1;32m    539\u001b[0m                     new_state[0].observation.step = (\n",
      "\u001b[0;32m~/.local/lib/python3.9/site-packages/kaggle_environments/envs/halite_fleets/halite_fleets.py\u001b[0m in \u001b[0;36minterpreter\u001b[0;34m(state, env)\u001b[0m\n\u001b[1;32m    163\u001b[0m     \u001b[0mactions\u001b[0m \u001b[0;34m=\u001b[0m \u001b[0;34m[\u001b[0m\u001b[0magent\u001b[0m\u001b[0;34m.\u001b[0m\u001b[0maction\u001b[0m \u001b[0;32mfor\u001b[0m \u001b[0magent\u001b[0m \u001b[0;32min\u001b[0m \u001b[0mstate\u001b[0m\u001b[0;34m]\u001b[0m\u001b[0;34m\u001b[0m\u001b[0;34m\u001b[0m\u001b[0m\n\u001b[1;32m    164\u001b[0m     \u001b[0mboard\u001b[0m \u001b[0;34m=\u001b[0m \u001b[0mBoard\u001b[0m\u001b[0;34m(\u001b[0m\u001b[0mobs\u001b[0m\u001b[0;34m,\u001b[0m \u001b[0mconfig\u001b[0m\u001b[0;34m,\u001b[0m \u001b[0mactions\u001b[0m\u001b[0;34m)\u001b[0m\u001b[0;34m\u001b[0m\u001b[0;34m\u001b[0m\u001b[0m\n\u001b[0;32m--> 165\u001b[0;31m     \u001b[0mboard\u001b[0m \u001b[0;34m=\u001b[0m \u001b[0mboard\u001b[0m\u001b[0;34m.\u001b[0m\u001b[0mnext\u001b[0m\u001b[0;34m(\u001b[0m\u001b[0;34m)\u001b[0m\u001b[0;34m\u001b[0m\u001b[0;34m\u001b[0m\u001b[0m\n\u001b[0m\u001b[1;32m    166\u001b[0m     \u001b[0mstate\u001b[0m\u001b[0;34m[\u001b[0m\u001b[0;36m0\u001b[0m\u001b[0;34m]\u001b[0m\u001b[0;34m.\u001b[0m\u001b[0mobservation\u001b[0m \u001b[0;34m=\u001b[0m \u001b[0mobs\u001b[0m \u001b[0;34m=\u001b[0m \u001b[0mutils\u001b[0m\u001b[0;34m.\u001b[0m\u001b[0mstructify\u001b[0m\u001b[0;34m(\u001b[0m\u001b[0mboard\u001b[0m\u001b[0;34m.\u001b[0m\u001b[0mobservation\u001b[0m\u001b[0;34m)\u001b[0m\u001b[0;34m\u001b[0m\u001b[0;34m\u001b[0m\u001b[0m\n\u001b[1;32m    167\u001b[0m \u001b[0;34m\u001b[0m\u001b[0m\n",
      "\u001b[0;32m~/.local/lib/python3.9/site-packages/kaggle_environments/envs/halite_fleets/helpers.py\u001b[0m in \u001b[0;36mnext\u001b[0;34m(self)\u001b[0m\n\u001b[1;32m    700\u001b[0m         \u001b[0;32mfor\u001b[0m \u001b[0mplayer\u001b[0m \u001b[0;32min\u001b[0m \u001b[0mboard\u001b[0m\u001b[0;34m.\u001b[0m\u001b[0mplayers\u001b[0m\u001b[0;34m.\u001b[0m\u001b[0mvalues\u001b[0m\u001b[0;34m(\u001b[0m\u001b[0;34m)\u001b[0m\u001b[0;34m:\u001b[0m\u001b[0;34m\u001b[0m\u001b[0;34m\u001b[0m\u001b[0m\n\u001b[1;32m    701\u001b[0m             \u001b[0;32mfor\u001b[0m \u001b[0mshipyard\u001b[0m \u001b[0;32min\u001b[0m \u001b[0mplayer\u001b[0m\u001b[0;34m.\u001b[0m\u001b[0mshipyards\u001b[0m\u001b[0;34m:\u001b[0m\u001b[0;34m\u001b[0m\u001b[0;34m\u001b[0m\u001b[0m\n\u001b[0;32m--> 702\u001b[0;31m                 if (shipyard.next_action.type == ShipyardActionType.SPAWN \n\u001b[0m\u001b[1;32m    703\u001b[0m                         \u001b[0;32mand\u001b[0m \u001b[0mplayer\u001b[0m\u001b[0;34m.\u001b[0m\u001b[0mhalite\u001b[0m \u001b[0;34m>=\u001b[0m \u001b[0mspawn_cost\u001b[0m \u001b[0;34m*\u001b[0m \u001b[0mshipyard\u001b[0m\u001b[0;34m.\u001b[0m\u001b[0mnext_action\u001b[0m\u001b[0;34m.\u001b[0m\u001b[0mnum_ships\u001b[0m\u001b[0;34m\u001b[0m\u001b[0;34m\u001b[0m\u001b[0m\n\u001b[1;32m    704\u001b[0m                         and shipyard.next_action.num_ships <= shipyard.max_spawn):\n",
      "\u001b[0;31mAttributeError\u001b[0m: 'NoneType' object has no attribute 'type'"
     ]
    }
   ],
   "source": [
    "from random import choice\n",
    "def agent(obs):\n",
    "    action = {}\n",
    "    shipyard_id = list(obs.players[obs.player][1].keys())[0]\n",
    "    ship_action = choice()\n",
    "    if ship_action is not None:\n",
    "        action[ship_id] = ship_action\n",
    "    return action\n",
    "\n",
    "env = make(\"halite_fleets\", debug=True)\n",
    "env.run([agent, \"random\"])\n",
    "env.render(mode=\"ipython\", width=800, height=800)"
   ]
  },
  {
   "cell_type": "markdown",
   "metadata": {},
   "source": [
    "## Specification"
   ]
  },
  {
   "cell_type": "code",
   "execution_count": 17,
   "metadata": {
    "scrolled": false
   },
   "outputs": [
    {
     "name": "stdout",
     "output_type": "stream",
     "text": [
      "Configuration: {\n",
      "    \"actTimeout\": {\n",
      "        \"default\": 2,\n",
      "        \"description\": \"Maximum runtime (seconds) to obtain an action from an agent.\",\n",
      "        \"minimum\": 1,\n",
      "        \"type\": \"integer\"\n",
      "    },\n",
      "    \"agentExec\": {\n",
      "        \"default\": \"PROCESS\",\n",
      "        \"description\": \"How the agent is executed alongside the running envionment.\",\n",
      "        \"enum\": [\n",
      "            \"LOCAL\",\n",
      "            \"PROCESS\"\n",
      "        ],\n",
      "        \"type\": \"string\"\n",
      "    },\n",
      "    \"agentTimeout\": {\n",
      "        \"default\": 10,\n",
      "        \"description\": \"Maximum runtime (seconds) to initialize an agent.\",\n",
      "        \"minimum\": 1,\n",
      "        \"type\": \"integer\"\n",
      "    },\n",
      "    \"collectRate\": {\n",
      "        \"default\": 0.25,\n",
      "        \"description\": \"The rate of halite collected by a ship from a cell by not moving.\",\n",
      "        \"minimum\": 0,\n",
      "        \"type\": \"number\"\n",
      "    },\n",
      "    \"convertCost\": {\n",
      "        \"default\": 2000,\n",
      "        \"description\": \"The amount of halite to convert a ship into a shipyard.\",\n",
      "        \"minimum\": 0,\n",
      "        \"type\": \"integer\"\n",
      "    },\n",
      "    \"episodeSteps\": {\n",
      "        \"default\": 400,\n",
      "        \"description\": \"Maximum number of steps in the episode.\",\n",
      "        \"minimum\": 1,\n",
      "        \"type\": \"integer\"\n",
      "    },\n",
      "    \"halite\": {\n",
      "        \"default\": 24000,\n",
      "        \"description\": \"The starting amount of halite available on the board.\",\n",
      "        \"type\": \"integer\"\n",
      "    },\n",
      "    \"moveCost\": {\n",
      "        \"default\": 0.1,\n",
      "        \"description\": \"The percent deducted from ship's current halite per move.\",\n",
      "        \"minimum\": 0,\n",
      "        \"type\": \"number\"\n",
      "    },\n",
      "    \"regenRate\": {\n",
      "        \"default\": 0.02,\n",
      "        \"description\": \"The rate halite regenerates on the board.\",\n",
      "        \"minimum\": 0,\n",
      "        \"type\": \"number\"\n",
      "    },\n",
      "    \"runTimeout\": {\n",
      "        \"default\": 600,\n",
      "        \"description\": \"Maximum runtime (seconds) of an episode (not necessarily DONE).\",\n",
      "        \"minimum\": 1,\n",
      "        \"type\": \"integer\"\n",
      "    },\n",
      "    \"size\": {\n",
      "        \"default\": 15,\n",
      "        \"description\": \"The number of cells vertically and horizontally on the board.\",\n",
      "        \"minimum\": 2,\n",
      "        \"type\": \"integer\"\n",
      "    },\n",
      "    \"spawnCost\": {\n",
      "        \"default\": 500,\n",
      "        \"description\": \"The amount of halite to spawn a new ship.\",\n",
      "        \"minimum\": 0,\n",
      "        \"type\": \"integer\"\n",
      "    }\n",
      "}\n",
      "Observation: {\n",
      "    \"halite\": {\n",
      "        \"description\": \"Halite: Serialized list of available halite per cell on the board.\",\n",
      "        \"shared\": true,\n",
      "        \"type\": \"array\"\n",
      "    },\n",
      "    \"player\": {\n",
      "        \"defaults\": [\n",
      "            0,\n",
      "            1,\n",
      "            2,\n",
      "            3\n",
      "        ],\n",
      "        \"description\": \"The agents player index.\",\n",
      "        \"type\": \"integer\"\n",
      "    },\n",
      "    \"players\": {\n",
      "        \"description\": \"List of players and their assets.\",\n",
      "        \"shared\": true,\n",
      "        \"type\": \"array\"\n",
      "    },\n",
      "    \"step\": {\n",
      "        \"description\": \"The current step index within the episode.\",\n",
      "        \"minimum\": 0,\n",
      "        \"shared\": true,\n",
      "        \"type\": \"integer\"\n",
      "    }\n",
      "}\n",
      "Action: {\n",
      "    \"additionalProperties\": {\n",
      "        \"description\": \"Key: uid of the asset. Value: action. SPAWN for shipyards, remaining for ships.\",\n",
      "        \"enum\": [\n",
      "            \"CONVERT\",\n",
      "            \"SPAWN\",\n",
      "            \"NORTH\",\n",
      "            \"SOUTH\",\n",
      "            \"EAST\",\n",
      "            \"WEST\"\n",
      "        ]\n",
      "    },\n",
      "    \"default\": 0,\n",
      "    \"description\": \"Actions taken per asset (ship or shipyard).\",\n",
      "    \"type\": \"object\"\n",
      "}\n"
     ]
    }
   ],
   "source": [
    "import json\n",
    "print(\"Configuration:\", json.dumps(env.specification.configuration, indent=4, sort_keys=True))\n",
    "print(\"Observation:\", json.dumps(env.specification.observation, indent=4, sort_keys=True))\n",
    "print(\"Action:\", json.dumps(env.specification.action, indent=4, sort_keys=True))"
   ]
  },
  {
   "cell_type": "code",
   "execution_count": null,
   "metadata": {},
   "outputs": [],
   "source": []
  }
 ],
 "metadata": {
  "kernelspec": {
   "display_name": "Python 3",
   "language": "python",
   "name": "python3"
  },
  "language_info": {
   "codemirror_mode": {
    "name": "ipython",
    "version": 3
   },
   "file_extension": ".py",
   "mimetype": "text/x-python",
   "name": "python",
   "nbconvert_exporter": "python",
   "pygments_lexer": "ipython3",
   "version": "3.9.7-final"
  }
 },
 "nbformat": 4,
 "nbformat_minor": 2
}