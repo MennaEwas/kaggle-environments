{
 "cells": [
  {
   "cell_type": "markdown",
   "metadata": {},
   "source": [
    "# Halite - Kaggle Environment"
   ]
  },
  {
   "cell_type": "code",
   "execution_count": 1,
   "metadata": {},
   "outputs": [
    {
     "name": "stdout",
     "output_type": "stream",
     "text": [
      "Processing /usr/local/google/home/bovard/git/kaggle-environments\n",
      "Requirement already satisfied: jsonschema>=3.0.1 in /usr/local/google/home/bovard/.local/lib/python3.9/site-packages (from kaggle-environments==1.8.12) (3.2.0)\n",
      "Requirement already satisfied: setuptools in /usr/lib/python3/dist-packages (from jsonschema>=3.0.1->kaggle-environments==1.8.12) (58.2.0)\n",
      "Requirement already satisfied: six>=1.11.0 in /usr/lib/python3/dist-packages (from jsonschema>=3.0.1->kaggle-environments==1.8.12) (1.16.0)\n",
      "Requirement already satisfied: attrs>=17.4.0 in /usr/local/google/home/bovard/.local/lib/python3.9/site-packages (from jsonschema>=3.0.1->kaggle-environments==1.8.12) (20.3.0)\n",
      "Requirement already satisfied: pyrsistent>=0.14.0 in /usr/local/google/home/bovard/.local/lib/python3.9/site-packages (from jsonschema>=3.0.1->kaggle-environments==1.8.12) (0.17.3)\n",
      "Building wheels for collected packages: kaggle-environments\n",
      "  Building wheel for kaggle-environments (setup.py) ... \u001b[?25ldone\n",
      "\u001b[?25h  Created wheel for kaggle-environments: filename=kaggle_environments-1.8.12-py3-none-any.whl size=1200243 sha256=713b16c918e952bfde32917795475cf1373e1524e11780cd02da7751fb0fd777\n",
      "  Stored in directory: /usr/local/google/home/bovard/.cache/pip/wheels/aa/26/bb/1210456361b8899a6a8812420e8ecabf56f10e0b10a8466e19\n",
      "Successfully built kaggle-environments\n",
      "Installing collected packages: kaggle-environments\n",
      "  Attempting uninstall: kaggle-environments\n",
      "    Found existing installation: kaggle-environments 1.8.12\n",
      "    Uninstalling kaggle-environments-1.8.12:\n",
      "      Successfully uninstalled kaggle-environments-1.8.12\n",
      "Successfully installed kaggle-environments-1.8.12\n"
     ]
    }
   ],
   "source": [
    "!pip install ../../.."
   ]
  },
  {
   "cell_type": "code",
   "execution_count": 2,
   "metadata": {},
   "outputs": [
    {
     "name": "stdout",
     "output_type": "stream",
     "text": [
      "Loading environment football failed: No module named 'gfootball'\n",
      "halite_fleets 1.0.0\n",
      "Default Agents:  random simple do_nothing simp\n"
     ]
    }
   ],
   "source": [
    "from kaggle_environments import make\n",
    "env = make(\"halite_fleets\")\n",
    "print(env.name, env.version)\n",
    "print(\"Default Agents: \", *env.agents)"
   ]
  },
  {
   "cell_type": "markdown",
   "metadata": {},
   "source": [
    "## TLDR;"
   ]
  },
  {
   "cell_type": "code",
   "execution_count": null,
   "metadata": {
    "scrolled": false
   },
   "outputs": [],
   "source": [
    "env = make(\"halite_fleets\", debug=True)\n",
    "env.run([\"simp\", \"simple\", \"simple\", \"simple\"])\n",
    "#env.run([\"random\", \"random\", \"random\", \"random\"])\n",
    "#env.run([\"simple\", \"simple\"])\n",
    "env.render(mode=\"ipython\", width=970, height=800)"
   ]
  },
  {
   "cell_type": "markdown",
   "metadata": {},
   "source": [
    "## Specification"
   ]
  },
  {
   "cell_type": "code",
   "execution_count": null,
   "metadata": {
    "scrolled": false
   },
   "outputs": [],
   "source": [
    "import json\n",
    "print(\"Configuration:\", json.dumps(env.specification.configuration, indent=4, sort_keys=True))\n",
    "print(\"Observation:\", json.dumps(env.specification.observation, indent=4, sort_keys=True))\n",
    "print(\"Action:\", json.dumps(env.specification.action, indent=4, sort_keys=True))"
   ]
  },
  {
   "cell_type": "code",
   "execution_count": null,
   "metadata": {},
   "outputs": [],
   "source": []
  },
  {
   "cell_type": "code",
   "execution_count": null,
   "metadata": {},
   "outputs": [],
   "source": []
  }
 ],
 "metadata": {
  "kernelspec": {
   "display_name": "Python 3",
   "language": "python",
   "name": "python3"
  },
  "language_info": {
   "codemirror_mode": {
    "name": "ipython",
    "version": 3
   },
   "file_extension": ".py",
   "mimetype": "text/x-python",
   "name": "python",
   "nbconvert_exporter": "python",
   "pygments_lexer": "ipython3",
   "version": "3.9.9"
  }
 },
 "nbformat": 4,
 "nbformat_minor": 2
}
